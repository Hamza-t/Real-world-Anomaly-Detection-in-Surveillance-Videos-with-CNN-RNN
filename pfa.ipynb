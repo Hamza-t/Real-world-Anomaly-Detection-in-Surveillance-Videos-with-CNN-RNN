{
  "nbformat": 4,
  "nbformat_minor": 0,
  "metadata": {
    "colab": {
      "provenance": [],
      "authorship_tag": "ABX9TyP7A2fGhM+vlm4ktaLnbwOH",
      "include_colab_link": true
    },
    "kernelspec": {
      "name": "python3",
      "display_name": "Python 3"
    },
    "language_info": {
      "name": "python"
    }
  },
  "cells": [
    {
      "cell_type": "markdown",
      "metadata": {
        "id": "view-in-github",
        "colab_type": "text"
      },
      "source": [
        "<a href=\"https://colab.research.google.com/github/Hamza-t/PFA_/blob/main/pfa.ipynb\" target=\"_parent\"><img src=\"https://colab.research.google.com/assets/colab-badge.svg\" alt=\"Open In Colab\"/></a>"
      ]
    },
    {
      "cell_type": "code",
      "execution_count": null,
      "metadata": {
        "id": "XrZyOuZrwHxA"
      },
      "outputs": [],
      "source": [
        "import pandas as pd\n",
        "import matplotlib.pyplot as plt\n",
        "import seaborn as sns\n",
        "import numpy as np\n"
      ]
    },
    {
      "cell_type": "code",
      "source": [
        "data = pd.read_csv(\"/content/pfa.csv\")"
      ],
      "metadata": {
        "id": "Q1I_wOa0_HtT"
      },
      "execution_count": null,
      "outputs": []
    },
    {
      "cell_type": "code",
      "source": [
        "data"
      ],
      "metadata": {
        "id": "gtF-qA73_MCt",
        "colab": {
          "base_uri": "https://localhost:8080/",
          "height": 424
        },
        "outputId": "00c9ae94-7327-4742-c99c-39f19ad8811c"
      },
      "execution_count": null,
      "outputs": [
        {
          "output_type": "execute_result",
          "data": {
            "text/plain": [
              "     Unnamed: 0      loss       auc  precision    recall   F_score\n",
              "0             0  0.956787  0.806419   0.967111  0.484396  0.606284\n",
              "1             1  0.888053  0.806420   0.960214  0.738849  0.807083\n",
              "2             2  0.831544  0.807261   0.942638  0.817999  0.854663\n",
              "3             3  0.784961  0.803083   0.937099  0.863905  0.881567\n",
              "4             4  0.749726  0.823160   0.942627  0.859503  0.881680\n",
              "..          ...       ...       ...        ...       ...       ...\n",
              "96           96  0.431537  0.824191   0.927027  0.914681  0.909919\n",
              "97           97  0.424306  0.826336   0.930297  0.903346  0.905280\n",
              "98           98  0.417724  0.817292   0.923135  0.907717  0.902865\n",
              "99           99  0.423108  0.824197   0.926484  0.908628  0.905307\n",
              "100         100  0.413674  0.820799   0.923270  0.915440  0.908071\n",
              "\n",
              "[101 rows x 6 columns]"
            ],
            "text/html": [
              "\n",
              "  <div id=\"df-890d5970-78f6-4dd6-b1b0-1346846ca235\">\n",
              "    <div class=\"colab-df-container\">\n",
              "      <div>\n",
              "<style scoped>\n",
              "    .dataframe tbody tr th:only-of-type {\n",
              "        vertical-align: middle;\n",
              "    }\n",
              "\n",
              "    .dataframe tbody tr th {\n",
              "        vertical-align: top;\n",
              "    }\n",
              "\n",
              "    .dataframe thead th {\n",
              "        text-align: right;\n",
              "    }\n",
              "</style>\n",
              "<table border=\"1\" class=\"dataframe\">\n",
              "  <thead>\n",
              "    <tr style=\"text-align: right;\">\n",
              "      <th></th>\n",
              "      <th>Unnamed: 0</th>\n",
              "      <th>loss</th>\n",
              "      <th>auc</th>\n",
              "      <th>precision</th>\n",
              "      <th>recall</th>\n",
              "      <th>F_score</th>\n",
              "    </tr>\n",
              "  </thead>\n",
              "  <tbody>\n",
              "    <tr>\n",
              "      <th>0</th>\n",
              "      <td>0</td>\n",
              "      <td>0.956787</td>\n",
              "      <td>0.806419</td>\n",
              "      <td>0.967111</td>\n",
              "      <td>0.484396</td>\n",
              "      <td>0.606284</td>\n",
              "    </tr>\n",
              "    <tr>\n",
              "      <th>1</th>\n",
              "      <td>1</td>\n",
              "      <td>0.888053</td>\n",
              "      <td>0.806420</td>\n",
              "      <td>0.960214</td>\n",
              "      <td>0.738849</td>\n",
              "      <td>0.807083</td>\n",
              "    </tr>\n",
              "    <tr>\n",
              "      <th>2</th>\n",
              "      <td>2</td>\n",
              "      <td>0.831544</td>\n",
              "      <td>0.807261</td>\n",
              "      <td>0.942638</td>\n",
              "      <td>0.817999</td>\n",
              "      <td>0.854663</td>\n",
              "    </tr>\n",
              "    <tr>\n",
              "      <th>3</th>\n",
              "      <td>3</td>\n",
              "      <td>0.784961</td>\n",
              "      <td>0.803083</td>\n",
              "      <td>0.937099</td>\n",
              "      <td>0.863905</td>\n",
              "      <td>0.881567</td>\n",
              "    </tr>\n",
              "    <tr>\n",
              "      <th>4</th>\n",
              "      <td>4</td>\n",
              "      <td>0.749726</td>\n",
              "      <td>0.823160</td>\n",
              "      <td>0.942627</td>\n",
              "      <td>0.859503</td>\n",
              "      <td>0.881680</td>\n",
              "    </tr>\n",
              "    <tr>\n",
              "      <th>...</th>\n",
              "      <td>...</td>\n",
              "      <td>...</td>\n",
              "      <td>...</td>\n",
              "      <td>...</td>\n",
              "      <td>...</td>\n",
              "      <td>...</td>\n",
              "    </tr>\n",
              "    <tr>\n",
              "      <th>96</th>\n",
              "      <td>96</td>\n",
              "      <td>0.431537</td>\n",
              "      <td>0.824191</td>\n",
              "      <td>0.927027</td>\n",
              "      <td>0.914681</td>\n",
              "      <td>0.909919</td>\n",
              "    </tr>\n",
              "    <tr>\n",
              "      <th>97</th>\n",
              "      <td>97</td>\n",
              "      <td>0.424306</td>\n",
              "      <td>0.826336</td>\n",
              "      <td>0.930297</td>\n",
              "      <td>0.903346</td>\n",
              "      <td>0.905280</td>\n",
              "    </tr>\n",
              "    <tr>\n",
              "      <th>98</th>\n",
              "      <td>98</td>\n",
              "      <td>0.417724</td>\n",
              "      <td>0.817292</td>\n",
              "      <td>0.923135</td>\n",
              "      <td>0.907717</td>\n",
              "      <td>0.902865</td>\n",
              "    </tr>\n",
              "    <tr>\n",
              "      <th>99</th>\n",
              "      <td>99</td>\n",
              "      <td>0.423108</td>\n",
              "      <td>0.824197</td>\n",
              "      <td>0.926484</td>\n",
              "      <td>0.908628</td>\n",
              "      <td>0.905307</td>\n",
              "    </tr>\n",
              "    <tr>\n",
              "      <th>100</th>\n",
              "      <td>100</td>\n",
              "      <td>0.413674</td>\n",
              "      <td>0.820799</td>\n",
              "      <td>0.923270</td>\n",
              "      <td>0.915440</td>\n",
              "      <td>0.908071</td>\n",
              "    </tr>\n",
              "  </tbody>\n",
              "</table>\n",
              "<p>101 rows × 6 columns</p>\n",
              "</div>\n",
              "      <button class=\"colab-df-convert\" onclick=\"convertToInteractive('df-890d5970-78f6-4dd6-b1b0-1346846ca235')\"\n",
              "              title=\"Convert this dataframe to an interactive table.\"\n",
              "              style=\"display:none;\">\n",
              "        \n",
              "  <svg xmlns=\"http://www.w3.org/2000/svg\" height=\"24px\"viewBox=\"0 0 24 24\"\n",
              "       width=\"24px\">\n",
              "    <path d=\"M0 0h24v24H0V0z\" fill=\"none\"/>\n",
              "    <path d=\"M18.56 5.44l.94 2.06.94-2.06 2.06-.94-2.06-.94-.94-2.06-.94 2.06-2.06.94zm-11 1L8.5 8.5l.94-2.06 2.06-.94-2.06-.94L8.5 2.5l-.94 2.06-2.06.94zm10 10l.94 2.06.94-2.06 2.06-.94-2.06-.94-.94-2.06-.94 2.06-2.06.94z\"/><path d=\"M17.41 7.96l-1.37-1.37c-.4-.4-.92-.59-1.43-.59-.52 0-1.04.2-1.43.59L10.3 9.45l-7.72 7.72c-.78.78-.78 2.05 0 2.83L4 21.41c.39.39.9.59 1.41.59.51 0 1.02-.2 1.41-.59l7.78-7.78 2.81-2.81c.8-.78.8-2.07 0-2.86zM5.41 20L4 18.59l7.72-7.72 1.47 1.35L5.41 20z\"/>\n",
              "  </svg>\n",
              "      </button>\n",
              "      \n",
              "  <style>\n",
              "    .colab-df-container {\n",
              "      display:flex;\n",
              "      flex-wrap:wrap;\n",
              "      gap: 12px;\n",
              "    }\n",
              "\n",
              "    .colab-df-convert {\n",
              "      background-color: #E8F0FE;\n",
              "      border: none;\n",
              "      border-radius: 50%;\n",
              "      cursor: pointer;\n",
              "      display: none;\n",
              "      fill: #1967D2;\n",
              "      height: 32px;\n",
              "      padding: 0 0 0 0;\n",
              "      width: 32px;\n",
              "    }\n",
              "\n",
              "    .colab-df-convert:hover {\n",
              "      background-color: #E2EBFA;\n",
              "      box-shadow: 0px 1px 2px rgba(60, 64, 67, 0.3), 0px 1px 3px 1px rgba(60, 64, 67, 0.15);\n",
              "      fill: #174EA6;\n",
              "    }\n",
              "\n",
              "    [theme=dark] .colab-df-convert {\n",
              "      background-color: #3B4455;\n",
              "      fill: #D2E3FC;\n",
              "    }\n",
              "\n",
              "    [theme=dark] .colab-df-convert:hover {\n",
              "      background-color: #434B5C;\n",
              "      box-shadow: 0px 1px 3px 1px rgba(0, 0, 0, 0.15);\n",
              "      filter: drop-shadow(0px 1px 2px rgba(0, 0, 0, 0.3));\n",
              "      fill: #FFFFFF;\n",
              "    }\n",
              "  </style>\n",
              "\n",
              "      <script>\n",
              "        const buttonEl =\n",
              "          document.querySelector('#df-890d5970-78f6-4dd6-b1b0-1346846ca235 button.colab-df-convert');\n",
              "        buttonEl.style.display =\n",
              "          google.colab.kernel.accessAllowed ? 'block' : 'none';\n",
              "\n",
              "        async function convertToInteractive(key) {\n",
              "          const element = document.querySelector('#df-890d5970-78f6-4dd6-b1b0-1346846ca235');\n",
              "          const dataTable =\n",
              "            await google.colab.kernel.invokeFunction('convertToInteractive',\n",
              "                                                     [key], {});\n",
              "          if (!dataTable) return;\n",
              "\n",
              "          const docLinkHtml = 'Like what you see? Visit the ' +\n",
              "            '<a target=\"_blank\" href=https://colab.research.google.com/notebooks/data_table.ipynb>data table notebook</a>'\n",
              "            + ' to learn more about interactive tables.';\n",
              "          element.innerHTML = '';\n",
              "          dataTable['output_type'] = 'display_data';\n",
              "          await google.colab.output.renderOutput(dataTable, element);\n",
              "          const docLink = document.createElement('div');\n",
              "          docLink.innerHTML = docLinkHtml;\n",
              "          element.appendChild(docLink);\n",
              "        }\n",
              "      </script>\n",
              "    </div>\n",
              "  </div>\n",
              "  "
            ]
          },
          "metadata": {},
          "execution_count": 6
        }
      ]
    },
    {
      "cell_type": "code",
      "source": [
        "print(max(data[\"auc\"]))"
      ],
      "metadata": {
        "colab": {
          "base_uri": "https://localhost:8080/"
        },
        "id": "DYzi1JgnEBQj",
        "outputId": "fe4d7971-64d9-4bf2-c2cc-cbbb601da3f9"
      },
      "execution_count": null,
      "outputs": [
        {
          "output_type": "stream",
          "name": "stdout",
          "text": [
            "0.8431262778581289\n"
          ]
        }
      ]
    },
    {
      "cell_type": "code",
      "source": [
        "print(max(data[\"recall\"]))"
      ],
      "metadata": {
        "colab": {
          "base_uri": "https://localhost:8080/"
        },
        "id": "B7X69Zd3EFiG",
        "outputId": "db434454-cfca-4272-bd40-a2bafb58b196"
      },
      "execution_count": null,
      "outputs": [
        {
          "output_type": "stream",
          "name": "stdout",
          "text": [
            "0.9244478660991786\n"
          ]
        }
      ]
    },
    {
      "cell_type": "code",
      "source": [
        "print(min(data[\"loss\"]))"
      ],
      "metadata": {
        "colab": {
          "base_uri": "https://localhost:8080/"
        },
        "id": "Yu_7pyHlEI4H",
        "outputId": "2a390325-344b-4dd5-fe12-e750e10bf480"
      },
      "execution_count": null,
      "outputs": [
        {
          "output_type": "stream",
          "name": "stdout",
          "text": [
            "0.4126688882156654\n"
          ]
        }
      ]
    },
    {
      "cell_type": "code",
      "source": [
        "print(max(data[\"precision\"]))\n",
        "print(max(data[\"F_score\"]))"
      ],
      "metadata": {
        "colab": {
          "base_uri": "https://localhost:8080/"
        },
        "id": "50byn1xVEOzh",
        "outputId": "b38a2d5a-8fd7-4fd9-e850-0873fc6abe6f"
      },
      "execution_count": null,
      "outputs": [
        {
          "output_type": "stream",
          "name": "stdout",
          "text": [
            "0.9671113628728976\n",
            "0.9167839494025192\n"
          ]
        }
      ]
    },
    {
      "cell_type": "code",
      "source": [
        "print(data[data[\"F_score\"] == max(data[\"F_score\"])][\"Epoche\"])"
      ],
      "metadata": {
        "colab": {
          "base_uri": "https://localhost:8080/"
        },
        "id": "RGUNZfGAESaK",
        "outputId": "5de08081-eddd-4394-cb2e-d719291c73a6"
      },
      "execution_count": null,
      "outputs": [
        {
          "output_type": "stream",
          "name": "stdout",
          "text": [
            "17    17\n",
            "Name: Epoche, dtype: int64\n"
          ]
        }
      ]
    },
    {
      "cell_type": "code",
      "source": [
        "data.head()\n",
        "print(data[data[\"Epoche\"]== 17])"
      ],
      "metadata": {
        "colab": {
          "base_uri": "https://localhost:8080/"
        },
        "id": "proRA5TNEXML",
        "outputId": "d8ac0236-25d5-469c-ca72-4fb0aef4a16d"
      },
      "execution_count": null,
      "outputs": [
        {
          "output_type": "stream",
          "name": "stdout",
          "text": [
            "    Epoche     loss       auc  precision    recall   F_score\n",
            "17      17  0.49328  0.835569   0.927678  0.924448  0.916784\n"
          ]
        }
      ]
    },
    {
      "cell_type": "code",
      "source": [
        "data.rename(columns = {'Unnamed: 0':'Epoche'}, inplace = True)"
      ],
      "metadata": {
        "id": "ET4zVz2OFyYM"
      },
      "execution_count": null,
      "outputs": []
    },
    {
      "cell_type": "code",
      "source": [
        "data.head()"
      ],
      "metadata": {
        "colab": {
          "base_uri": "https://localhost:8080/",
          "height": 206
        },
        "id": "ZD_5hOlaF23y",
        "outputId": "7db2e3ff-eefe-49b0-dc5a-e0bde8eca99f"
      },
      "execution_count": null,
      "outputs": [
        {
          "output_type": "execute_result",
          "data": {
            "text/plain": [
              "   Epoche      loss       auc  precision    recall   F_score\n",
              "0       0  0.956787  0.806419   0.967111  0.484396  0.606284\n",
              "1       1  0.888053  0.806420   0.960214  0.738849  0.807083\n",
              "2       2  0.831544  0.807261   0.942638  0.817999  0.854663\n",
              "3       3  0.784961  0.803083   0.937099  0.863905  0.881567\n",
              "4       4  0.749726  0.823160   0.942627  0.859503  0.881680"
            ],
            "text/html": [
              "\n",
              "  <div id=\"df-9a8dba4d-01d8-46a1-81ee-bdc1081501d1\">\n",
              "    <div class=\"colab-df-container\">\n",
              "      <div>\n",
              "<style scoped>\n",
              "    .dataframe tbody tr th:only-of-type {\n",
              "        vertical-align: middle;\n",
              "    }\n",
              "\n",
              "    .dataframe tbody tr th {\n",
              "        vertical-align: top;\n",
              "    }\n",
              "\n",
              "    .dataframe thead th {\n",
              "        text-align: right;\n",
              "    }\n",
              "</style>\n",
              "<table border=\"1\" class=\"dataframe\">\n",
              "  <thead>\n",
              "    <tr style=\"text-align: right;\">\n",
              "      <th></th>\n",
              "      <th>Epoche</th>\n",
              "      <th>loss</th>\n",
              "      <th>auc</th>\n",
              "      <th>precision</th>\n",
              "      <th>recall</th>\n",
              "      <th>F_score</th>\n",
              "    </tr>\n",
              "  </thead>\n",
              "  <tbody>\n",
              "    <tr>\n",
              "      <th>0</th>\n",
              "      <td>0</td>\n",
              "      <td>0.956787</td>\n",
              "      <td>0.806419</td>\n",
              "      <td>0.967111</td>\n",
              "      <td>0.484396</td>\n",
              "      <td>0.606284</td>\n",
              "    </tr>\n",
              "    <tr>\n",
              "      <th>1</th>\n",
              "      <td>1</td>\n",
              "      <td>0.888053</td>\n",
              "      <td>0.806420</td>\n",
              "      <td>0.960214</td>\n",
              "      <td>0.738849</td>\n",
              "      <td>0.807083</td>\n",
              "    </tr>\n",
              "    <tr>\n",
              "      <th>2</th>\n",
              "      <td>2</td>\n",
              "      <td>0.831544</td>\n",
              "      <td>0.807261</td>\n",
              "      <td>0.942638</td>\n",
              "      <td>0.817999</td>\n",
              "      <td>0.854663</td>\n",
              "    </tr>\n",
              "    <tr>\n",
              "      <th>3</th>\n",
              "      <td>3</td>\n",
              "      <td>0.784961</td>\n",
              "      <td>0.803083</td>\n",
              "      <td>0.937099</td>\n",
              "      <td>0.863905</td>\n",
              "      <td>0.881567</td>\n",
              "    </tr>\n",
              "    <tr>\n",
              "      <th>4</th>\n",
              "      <td>4</td>\n",
              "      <td>0.749726</td>\n",
              "      <td>0.823160</td>\n",
              "      <td>0.942627</td>\n",
              "      <td>0.859503</td>\n",
              "      <td>0.881680</td>\n",
              "    </tr>\n",
              "  </tbody>\n",
              "</table>\n",
              "</div>\n",
              "      <button class=\"colab-df-convert\" onclick=\"convertToInteractive('df-9a8dba4d-01d8-46a1-81ee-bdc1081501d1')\"\n",
              "              title=\"Convert this dataframe to an interactive table.\"\n",
              "              style=\"display:none;\">\n",
              "        \n",
              "  <svg xmlns=\"http://www.w3.org/2000/svg\" height=\"24px\"viewBox=\"0 0 24 24\"\n",
              "       width=\"24px\">\n",
              "    <path d=\"M0 0h24v24H0V0z\" fill=\"none\"/>\n",
              "    <path d=\"M18.56 5.44l.94 2.06.94-2.06 2.06-.94-2.06-.94-.94-2.06-.94 2.06-2.06.94zm-11 1L8.5 8.5l.94-2.06 2.06-.94-2.06-.94L8.5 2.5l-.94 2.06-2.06.94zm10 10l.94 2.06.94-2.06 2.06-.94-2.06-.94-.94-2.06-.94 2.06-2.06.94z\"/><path d=\"M17.41 7.96l-1.37-1.37c-.4-.4-.92-.59-1.43-.59-.52 0-1.04.2-1.43.59L10.3 9.45l-7.72 7.72c-.78.78-.78 2.05 0 2.83L4 21.41c.39.39.9.59 1.41.59.51 0 1.02-.2 1.41-.59l7.78-7.78 2.81-2.81c.8-.78.8-2.07 0-2.86zM5.41 20L4 18.59l7.72-7.72 1.47 1.35L5.41 20z\"/>\n",
              "  </svg>\n",
              "      </button>\n",
              "      \n",
              "  <style>\n",
              "    .colab-df-container {\n",
              "      display:flex;\n",
              "      flex-wrap:wrap;\n",
              "      gap: 12px;\n",
              "    }\n",
              "\n",
              "    .colab-df-convert {\n",
              "      background-color: #E8F0FE;\n",
              "      border: none;\n",
              "      border-radius: 50%;\n",
              "      cursor: pointer;\n",
              "      display: none;\n",
              "      fill: #1967D2;\n",
              "      height: 32px;\n",
              "      padding: 0 0 0 0;\n",
              "      width: 32px;\n",
              "    }\n",
              "\n",
              "    .colab-df-convert:hover {\n",
              "      background-color: #E2EBFA;\n",
              "      box-shadow: 0px 1px 2px rgba(60, 64, 67, 0.3), 0px 1px 3px 1px rgba(60, 64, 67, 0.15);\n",
              "      fill: #174EA6;\n",
              "    }\n",
              "\n",
              "    [theme=dark] .colab-df-convert {\n",
              "      background-color: #3B4455;\n",
              "      fill: #D2E3FC;\n",
              "    }\n",
              "\n",
              "    [theme=dark] .colab-df-convert:hover {\n",
              "      background-color: #434B5C;\n",
              "      box-shadow: 0px 1px 3px 1px rgba(0, 0, 0, 0.15);\n",
              "      filter: drop-shadow(0px 1px 2px rgba(0, 0, 0, 0.3));\n",
              "      fill: #FFFFFF;\n",
              "    }\n",
              "  </style>\n",
              "\n",
              "      <script>\n",
              "        const buttonEl =\n",
              "          document.querySelector('#df-9a8dba4d-01d8-46a1-81ee-bdc1081501d1 button.colab-df-convert');\n",
              "        buttonEl.style.display =\n",
              "          google.colab.kernel.accessAllowed ? 'block' : 'none';\n",
              "\n",
              "        async function convertToInteractive(key) {\n",
              "          const element = document.querySelector('#df-9a8dba4d-01d8-46a1-81ee-bdc1081501d1');\n",
              "          const dataTable =\n",
              "            await google.colab.kernel.invokeFunction('convertToInteractive',\n",
              "                                                     [key], {});\n",
              "          if (!dataTable) return;\n",
              "\n",
              "          const docLinkHtml = 'Like what you see? Visit the ' +\n",
              "            '<a target=\"_blank\" href=https://colab.research.google.com/notebooks/data_table.ipynb>data table notebook</a>'\n",
              "            + ' to learn more about interactive tables.';\n",
              "          element.innerHTML = '';\n",
              "          dataTable['output_type'] = 'display_data';\n",
              "          await google.colab.output.renderOutput(dataTable, element);\n",
              "          const docLink = document.createElement('div');\n",
              "          docLink.innerHTML = docLinkHtml;\n",
              "          element.appendChild(docLink);\n",
              "        }\n",
              "      </script>\n",
              "    </div>\n",
              "  </div>\n",
              "  "
            ]
          },
          "metadata": {},
          "execution_count": 14
        }
      ]
    },
    {
      "cell_type": "code",
      "source": [
        "fpr = \"0 0.01301342 001301342, 0.02602684 0.02602684 0.05205368 0.07157381 0.11061407 0.11061407 0.12362749 0.13664091 0.16266775 0.18218788 0.19438796 0.19438796 0.21390809 0.26596177 0.2854819 0.31150874 0.31150874 0.31801545 0.34404229 0.37006913 0.38958926 0.40260268 0.40382269 0.40382269 0.42984953 0.45587637 0.4753965 0.52745018 0.54697031 0.57299715 0.61203741 0.63806425 0.65758438 0.68361122 0.76169174 0.78771858 0.82675885 0.95689305 0.99593331 1\"\n",
        "\n",
        "tpr = \"0 0 0.35424354 0.35424354 0.47232472 0.47232472 0.47232472 0.47232472 0.53136531 0.53136531 0.53136531 0.53136531 0.53136531 0.53874539 0.65682657 0.65682657 0.65682657 0.65682657 0.65682657 0.77490775 0.77490775 0.77490775 0.77490775 0.77490775 0.77490775 0.88191882 1 1 1 1 1 1 1 1 1 1 1 1 1 1 1 1 1\"\n",
        "\n"
      ],
      "metadata": {
        "id": "rBIIDRmdGI0H"
      },
      "execution_count": null,
      "outputs": []
    },
    {
      "cell_type": "code",
      "source": [
        "fpr = list(fpr.split(\" \"))\n",
        "tpr = list(tpr.split(\" \"))"
      ],
      "metadata": {
        "id": "9_3ZHG4bRzs8"
      },
      "execution_count": null,
      "outputs": []
    },
    {
      "cell_type": "code",
      "source": [
        "len(fpr) == len(tpr)"
      ],
      "metadata": {
        "colab": {
          "base_uri": "https://localhost:8080/"
        },
        "id": "9-V-ex8wRzwX",
        "outputId": "f650b720-1104-4f5a-d12a-9bfc84fa8b89"
      },
      "execution_count": null,
      "outputs": [
        {
          "output_type": "execute_result",
          "data": {
            "text/plain": [
              "True"
            ]
          },
          "metadata": {},
          "execution_count": 17
        }
      ]
    },
    {
      "cell_type": "code",
      "source": [
        "#life ladder and GDP by year \n",
        "# viz \n",
        "fig, ax3 = plt.subplots(figsize=(10, 6))\n",
        "\n",
        "#line plot of unit prices by product line\n",
        "\n",
        "\n",
        "ax3.set_ylabel('tpr',  fontsize = 16)\n",
        "ax3.set_xlabel('fpr' , fontsize = 16)\n",
        "ax3 = sns.lineplot(x = fpr[::], y= tpr[::-1],  color = 'red',  lw=2.5 , ci=None)\n",
        "ax3.tick_params(axis='y')\n",
        "\n",
        "ax3.legend(labels=[\"Traning loss\"],  fontsize=13)\n",
        "plt.show()"
      ],
      "metadata": {
        "colab": {
          "base_uri": "https://localhost:8080/",
          "height": 393
        },
        "id": "F3xQcGGu3V_S",
        "outputId": "e3344bca-15a3-45d0-d1e8-2d78c29e1091"
      },
      "execution_count": null,
      "outputs": [
        {
          "output_type": "display_data",
          "data": {
            "text/plain": [
              "<Figure size 720x432 with 1 Axes>"
            ],
            "image/png": "[encoded data removed]"
          },
          "metadata": {
            "needs_background": "light"
          }
        }
      ]
    },
    {
      "cell_type": "code",
      "source": [],
      "metadata": {
        "id": "Q7J-1SGR3WBl"
      },
      "execution_count": null,
      "outputs": []
    },
    {
      "cell_type": "code",
      "source": [],
      "metadata": {
        "id": "3DzQRuO93WE-"
      },
      "execution_count": null,
      "outputs": []
    },
    {
      "cell_type": "code",
      "source": [
        "#life ladder and GDP by year \n",
        "# viz \n",
        "fig, ax3 = plt.subplots(figsize=(10, 6))\n",
        "\n",
        "#line plot of unit prices by product line\n",
        "\n",
        "ax3.set_ylabel('LOSS',  fontsize = 16)\n",
        "ax3.set_xlabel('Epochs' , fontsize = 16)\n",
        "ax3 = sns.lineplot(x = \"Epoche\", y= \"loss\", data=data, color = 'red',  lw=2.5 , ci=None)\n",
        "ax3.tick_params(axis='y')\n",
        "ax3.legend(labels=[\"Traning loss\"],  fontsize=13)\n",
        "plt.show()"
      ],
      "metadata": {
        "colab": {
          "base_uri": "https://localhost:8080/",
          "height": 393
        },
        "id": "FSO7pUC7U-KD",
        "outputId": "b6b69128-f7f0-48c9-feca-990d3fdf50fe"
      },
      "execution_count": null,
      "outputs": [
        {
          "output_type": "display_data",
          "data": {
            "text/plain": [
              "<Figure size 720x432 with 1 Axes>"
            ],
            "image/png": "[encoded data removed]"
          },
          "metadata": {
            "needs_background": "light"
          }
        }
      ]
    },
    {
      "cell_type": "code",
      "source": [
        "#life ladder and GDP by year \n",
        "# viz \n",
        "fig, ax3 = plt.subplots(figsize=(10, 6))\n",
        "\n",
        "#line plot of unit prices by product line\n",
        "\n",
        "ax3.set_ylabel('Precision',  fontsize = 16)\n",
        "ax3.set_xlabel('Epochs' , fontsize = 16)\n",
        "ax3 = sns.lineplot(x = \"Epoche\", y= \"precision\", data=data, color = 'orange',  lw=2.5 , ci=None)\n",
        "ax3.tick_params(axis='y')\n",
        "ax3.legend(labels=[\"Precision\"],  fontsize=13)\n",
        "plt.show()"
      ],
      "metadata": {
        "id": "Wu4ZiAXyXwr_",
        "colab": {
          "base_uri": "https://localhost:8080/",
          "height": 393
        },
        "outputId": "911a7f26-64e8-40a9-c7ed-90ca0a913391"
      },
      "execution_count": null,
      "outputs": [
        {
          "output_type": "display_data",
          "data": {
            "text/plain": [
              "<Figure size 720x432 with 1 Axes>"
            ],
            "image/png": "[encoded data removed]"
          },
          "metadata": {
            "needs_background": "light"
          }
        }
      ]
    },
    {
      "cell_type": "code",
      "source": [
        "#life ladder and GDP by year \n",
        "# viz \n",
        "fig, ax3 = plt.subplots(figsize=(10, 6))\n",
        "\n",
        "#line plot of unit prices by product line\n",
        "\n",
        "ax3.set_ylabel('Recall',  fontsize = 16)\n",
        "ax3.set_xlabel('Epochs' , fontsize = 16)\n",
        "ax3 = sns.lineplot(x = \"Epoche\", y= \"recall\", data=data, color = '#00FF00',  lw=2.5 , ci=None)\n",
        "ax3.tick_params(axis='y')\n",
        "ax3.legend(labels=[\"Recall\"],  fontsize=13)\n",
        "plt.show()"
      ],
      "metadata": {
        "colab": {
          "base_uri": "https://localhost:8080/",
          "height": 393
        },
        "id": "eXT5VbiaXWPl",
        "outputId": "682b5ec2-064b-4b50-d764-7331fd9bd179"
      },
      "execution_count": null,
      "outputs": [
        {
          "output_type": "display_data",
          "data": {
            "text/plain": [
              "<Figure size 720x432 with 1 Axes>"
            ],
            "image/png": "[encoded data removed]"
          },
          "metadata": {
            "needs_background": "light"
          }
        }
      ]
    },
    {
      "cell_type": "code",
      "source": [],
      "metadata": {
        "id": "r8X3dJsMYBtc"
      },
      "execution_count": null,
      "outputs": []
    },
    {
      "cell_type": "code",
      "source": [
        "#Roc curve \n",
        "fpr = list(data[\"Epoche\"]/100)\n",
        "print(len(fpr))"
      ],
      "metadata": {
        "colab": {
          "base_uri": "https://localhost:8080/"
        },
        "id": "MfMYjPGnYXUO",
        "outputId": "24da3a87-e7cd-47ba-b955-04de8db92bb8"
      },
      "execution_count": null,
      "outputs": [
        {
          "output_type": "stream",
          "name": "stdout",
          "text": [
            "101\n"
          ]
        }
      ]
    },
    {
      "cell_type": "code",
      "source": [
        "#fpr\n",
        "tpr_original = [0,0.03,0.07,0.11,0.14,0.17,0.21,0.24,0.27,0.3,\n",
        "                0.33,0.36,0.38,0.42,0.46,0.49,0.51,0.53,0.55,0.56,\n",
        "                0.57,0.58,0.59,0.6,0.62,0.63,0.64,0.65,0.66,0.68,\n",
        "                0.69,0.7,0.7,0.71,0.72,0.72,0.73,0.73,0.74,0.74,\n",
        "                0.75,0.76,0.77,0.77,0.78,0.78,0.8,0.81,0.82, 0.83,\n",
        "                0.85,0.86,0.87,0.88,0.89,0.9,0.91,0.92,0.93,0.94,\n",
        "                0.94,0.94,0.95,0.95,0.95,0.96,0.96,0.96,0.97,0.97,\n",
        "                0.98,0.98,0.98,0.98,0.99,0.99,0.99,0.99,0.99,0.99,\n",
        "                0.99,0.99,0.99,0.99,1,1,1,1,1,1,\n",
        "                1,1,1,1,1,1,1,1,1,1,1]\n",
        "print(len(tpr_original))"
      ],
      "metadata": {
        "colab": {
          "base_uri": "https://localhost:8080/"
        },
        "id": "528wv2Ak7ceT",
        "outputId": "db3316b8-74c5-45a3-f950-ec3fbb049e4b"
      },
      "execution_count": null,
      "outputs": [
        {
          "output_type": "stream",
          "name": "stdout",
          "text": [
            "101\n"
          ]
        }
      ]
    },
    {
      "cell_type": "code",
      "source": [
        "#fpr\n",
        "our_tpr = [0,0.08,0.14,0.2,0.23,0.26,0.28,0.3,0.33,0.35,\n",
        "                0.37,0.42,0.45,0.48,0.5,0.52,0.54,0.56,0.57,0.58,\n",
        "                0.64,0.65,0.66,0.68,0.69,0.7,0.72,0.73,0.74,0.75,\n",
        "                0.78,0.8,0.82,0.84,0.85,0.86,0.86,0.87,0.89,0.9,\n",
        "                0.9,0.91,0.92,0.93,0.93,0.95,0.95,0.95,0.96, 0.96,\n",
        "                0.97,0.97,0.98,0.98,0.98,0.98,0.98,0.98,0.99,0.99,\n",
        "                0.99,0.99,0.99,0.99,0.99,0.99,1,1,1,1,\n",
        "                1,1,1,1,1,1,1,1,1,1,\n",
        "                1,1,1,1,1,1,1,1,1,1,\n",
        "                1,1,1,1,1,1,1,1,1,1,1]\n",
        "print(len(our_tpr))"
      ],
      "metadata": {
        "colab": {
          "base_uri": "https://localhost:8080/"
        },
        "id": "qq2VpptoMqGt",
        "outputId": "a1c8d492-01b9-40b0-9d80-ecd074a74d09"
      },
      "execution_count": null,
      "outputs": [
        {
          "output_type": "stream",
          "name": "stdout",
          "text": [
            "101\n"
          ]
        }
      ]
    },
    {
      "cell_type": "code",
      "source": [
        "#life ladder and GDP by year \n",
        "# viz \n",
        "fig, ax1 = plt.subplots(figsize=(8, 8))\n",
        "x=[0,0.1,0.2,0.3,0.4,0.5,0.6,0.7,0.8,0.9,1]\n",
        "#bar plot of rating by product line \n",
        "ax1 = sns.lineplot(x=x, y=x, color = 'black', lw=3,ci=None)\n",
        "ax1 = sns.lineplot(x=fpr,y=tpr_original,color = 'red', lw=4,ci=None)\n",
        "ax1 = sns.lineplot(x=fpr,y=our_tpr,color = 'green', lw=4,ci=None)\n",
        "ax1.set_ylabel('True positif rate', fontsize=16)\n",
        "ax1.set_xlabel('False positif rate', fontsize = 16 )\n",
        "#ax1.set_xticklabels(x, fontsize=12)\n",
        "#ax1.tick_params(axis='x')\n",
        "\n",
        "#line plot of unit prices by product line\n",
        "\n",
        "ax1.grid()\n",
        "import matplotlib.patches as mpatches\n",
        "red_patch = mpatches.Patch(color='red', label='Label1')\n",
        "green_patch = mpatches.Patch(color='#00FF00', label='Label2')\n",
        "ax1.legend(labels=['Existing implementation','Ours'],handles=[red_patch, green_patch])\n",
        "#ax1.legend(labels=['Curve','Ours'],fontsize=13)\n",
        "plt.show()"
      ],
      "metadata": {
        "colab": {
          "base_uri": "https://localhost:8080/",
          "height": 502
        },
        "id": "smzG6NH97dD5",
        "outputId": "cf28feb0-f523-40d1-8c12-d06010ec693c"
      },
      "execution_count": null,
      "outputs": [
        {
          "output_type": "display_data",
          "data": {
            "text/plain": [
              "<Figure size 576x576 with 1 Axes>"
            ],
            "image/png": "[encoded data removed]"
          },
          "metadata": {
            "needs_background": "light"
          }
        }
      ]
    },
    {
      "cell_type": "code",
      "source": [],
      "metadata": {
        "id": "Z6EWTwWI9tmT"
      },
      "execution_count": null,
      "outputs": []
    }
  ]
}